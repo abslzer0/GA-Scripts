{
  "nbformat": 4,
  "nbformat_minor": 0,
  "metadata": {
    "colab": {
      "name": "GA Extraction.ipynb",
      "provenance": [],
      "collapsed_sections": []
    },
    "kernelspec": {
      "name": "python3",
      "display_name": "Python 3"
    },
    "language_info": {
      "name": "python"
    }
  },
  "cells": [
    {
      "cell_type": "markdown",
      "source": [
        "#INPUTS"
      ],
      "metadata": {
        "id": "Da_fxS6tVw7P"
      }
    },
    {
      "cell_type": "code",
      "source": [
        "accountId = '122495099'     # Make sure the email \"gaextraction@modern-index-357412.iam.gserviceaccount.com\" has \"Admin\" Level access to the extracted account"
      ],
      "metadata": {
        "id": "jRe0Kw87VvuJ"
      },
      "execution_count": null,
      "outputs": []
    },
    {
      "cell_type": "markdown",
      "source": [
        "#CODE"
      ],
      "metadata": {
        "id": "GVoPYYGAV0ba"
      }
    },
    {
      "cell_type": "code",
      "source": [
        "import pandas as pd\n",
        "import json\n",
        "import os\n",
        "import time\n",
        "\n",
        "from googleapiclient.discovery import build\n",
        "from google.oauth2 import service_account"
      ],
      "metadata": {
        "id": "D2cNufTwn35a"
      },
      "execution_count": null,
      "outputs": []
    },
    {
      "cell_type": "markdown",
      "source": [
        "##GA3"
      ],
      "metadata": {
        "id": "WfAlFIMXvMf9"
      }
    },
    {
      "cell_type": "code",
      "source": [
        "PATH_TO_FILE = '/content/modern-index-357412-8ad604b5706e.json'\n",
        "credentials = service_account.Credentials.from_service_account_file(PATH_TO_FILE)\n",
        "\n",
        "analytics = build('analytics', 'v3', credentials=credentials)"
      ],
      "metadata": {
        "id": "xs9GM7X2rGBT",
        "colab": {
          "base_uri": "https://localhost:8080/"
        },
        "outputId": "ec524c20-a77f-42d6-bbcd-b6946970bc48"
      },
      "execution_count": null,
      "outputs": [
        {
          "output_type": "stream",
          "name": "stderr",
          "text": [
            "WARNING:googleapiclient.discovery_cache:file_cache is unavailable when using oauth2client >= 4.0.0 or google-auth\n",
            "Traceback (most recent call last):\n",
            "  File \"/usr/local/lib/python3.7/dist-packages/googleapiclient/discovery_cache/file_cache.py\", line 33, in <module>\n",
            "    from oauth2client.contrib.locked_file import LockedFile\n",
            "ModuleNotFoundError: No module named 'oauth2client.contrib.locked_file'\n",
            "\n",
            "During handling of the above exception, another exception occurred:\n",
            "\n",
            "Traceback (most recent call last):\n",
            "  File \"/usr/local/lib/python3.7/dist-packages/googleapiclient/discovery_cache/file_cache.py\", line 37, in <module>\n",
            "    from oauth2client.locked_file import LockedFile\n",
            "ModuleNotFoundError: No module named 'oauth2client.locked_file'\n",
            "\n",
            "During handling of the above exception, another exception occurred:\n",
            "\n",
            "Traceback (most recent call last):\n",
            "  File \"/usr/local/lib/python3.7/dist-packages/googleapiclient/discovery_cache/__init__.py\", line 44, in autodetect\n",
            "    from . import file_cache\n",
            "  File \"/usr/local/lib/python3.7/dist-packages/googleapiclient/discovery_cache/file_cache.py\", line 41, in <module>\n",
            "    \"file_cache is unavailable when using oauth2client >= 4.0.0 or google-auth\"\n",
            "ImportError: file_cache is unavailable when using oauth2client >= 4.0.0 or google-auth\n"
          ]
        }
      ]
    },
    {
      "cell_type": "markdown",
      "source": [
        "###Filters"
      ],
      "metadata": {
        "id": "r4U3ad1ecI6p"
      }
    },
    {
      "cell_type": "code",
      "source": [
        "properties = analytics.management().webproperties().list(accountId=accountId).execute()\n",
        "filters = analytics.management().filters().list(accountId=accountId).execute()\n",
        "views = analytics.management().profiles().list(accountId=accountId, webPropertyId='~all').execute()\n",
        "filters_view_link = analytics.management().profileFilterLinks().list(accountId=accountId, webPropertyId='~all', profileId='~all').execute()\n",
        "accounts = analytics.management().accounts().list().execute()\n",
        "\n",
        "df_columns = ['S.No', 'Views Name', 'Filters Detail', 'Account', 'Property Name', 'Property ID', 'Filter Count']\n",
        "df_dict = {'S.No': \"\", 'Views Name': \"\", 'Filters Detail': \"\", 'Account': \"\", 'Property Name': \"\", 'Property ID': \"\", 'Filter Count': \"\"}\n",
        "df = pd.DataFrame(df_columns)\n",
        "\n",
        "filter_view_dict = {}\n",
        "view_id_name_dict = {}\n",
        "property_id_name_dict = {}\n",
        "account_name = \"\""
      ],
      "metadata": {
        "id": "_W6c5Hxgn_-b"
      },
      "execution_count": null,
      "outputs": []
    },
    {
      "cell_type": "code",
      "source": [
        "for filter_view in filters_view_link.get('items', []):\n",
        "  view_id = filter_view['id'].split(\":\")[0]\n",
        "  filter_id = filter_view['id'].split(\":\")[1]\n",
        "  if(view_id in filter_view_dict):\n",
        "    filter_view_dict[view_id].append(filter_id)\n",
        "  else:\n",
        "    filter_view_dict[view_id] = [filter_id]\n",
        "\n",
        "for view in views.get('items', []):\n",
        "  view_id = view.get('id')\n",
        "  view_name = view.get('name')\n",
        "  view_id_name_dict[view_id] = view_name\n",
        "\n",
        "  filter_id = \"None\"\n",
        "  if(view_id not in filter_view_dict):\n",
        "    filter_view_dict[view_id] = [filter_id]\n",
        "\n",
        "for account in accounts.get('items', []):\n",
        "  if(account.get('id') == accountId):\n",
        "    account_name = account.get('name')"
      ],
      "metadata": {
        "id": "8gNdx75aAldV"
      },
      "execution_count": null,
      "outputs": []
    },
    {
      "cell_type": "code",
      "source": [
        "def getFilter(id):\n",
        "  if(id == \"None\"):\n",
        "    return \"No Filters\"\n",
        "  for filter in filters.get('items', []):\n",
        "    filterId = filter.get('id')\n",
        "    if(filterId == id):\n",
        "      filterType = filter.get('type')\n",
        "      filterName = filter.get('name')\n",
        "      filterDetails = filterName\n",
        "\n",
        "      if filterType == 'EXCLUDE':\n",
        "        details = filter.get('excludeDetails', {})\n",
        "        filterDetails += 'Exclude field = {0}\\n'.format(details.get('field'))\n",
        "        filterDetails += 'Exclude match type = {0}\\n'.format(details.get('matchType'))\n",
        "        filterDetails += 'Exclude expression value = {0}\\n'.format(details.get('expressionValue'))\n",
        "        filterDetails += 'Exclude case sensitive = {0}\\n'.format(details.get('caseSensitive'))\n",
        "\n",
        "      if filterType == 'INCLUDE':\n",
        "        details = filter.get('includeDetails', {})\n",
        "        filterDetails += 'Include field = {0}\\n'.format(details.get('field'))\n",
        "        filterDetails += 'Include match type = {0}\\n'.format(details.get('matchType'))\n",
        "        filterDetails += 'Include expression value = {0}\\n'.format(details.get('expressionValue'))\n",
        "        filterDetails += 'Include case sensitive = {0}\\n'.format(details.get('caseSensitive'))\n",
        "\n",
        "      if filterType == 'LOWERCASE':\n",
        "        details = filter.get('lowercaseDetails', {})\n",
        "        filterDetails += 'Lowercase field = {0}\\n'.format(details.get('field'))\n",
        "\n",
        "      if filterType == 'UPPERCASE':\n",
        "        details = filter.get('uppercaseDetails', {})\n",
        "        filterDetails += 'Uppercase field = {0}\\n'.format(details.get('field'))\n",
        "\n",
        "      if filterType == 'SEARCH_AND_REPLACE':\n",
        "        details = filter.get('searchAndReplaceDetails', {})\n",
        "        filterDetails += 'Search and replace field = {0}\\n'.format(details.get('field'))\n",
        "        filterDetails += 'Search string = {0}\\n'.format(details.get('searchString'))\n",
        "        filterDetails += 'Replace string = {0}\\n'.format(details.get('replaceString'))\n",
        "        filterDetails += 'Search and replace case sensitive = {0}\\n'.format(details.get('caseSensitive'))\n",
        "\n",
        "      if filterType == 'ADVANCED':\n",
        "        details = filter.get('advancedDetails', {})\n",
        "        filterDetails += 'Advanced field A = {0}\\n'.format(details.get('fieldA'))\n",
        "        filterDetails += 'Advanced extract A = {0}\\n'.format(details.get('extractA'))\n",
        "        filterDetails += 'Advanced field B = {0}\\n'.format(details.get('fieldB'))\n",
        "        filterDetails += 'Advanced extract B = {0}\\n'.format(details.get('extractB'))\n",
        "        filterDetails += 'Advanced output field = {0}\\n'.format(details.get('outputToField'))\n",
        "        filterDetails += 'Advanced output constructor = {0}\\n'.format(details.get('outputConstructor'))\n",
        "        filterDetails += 'Advanced field A required = {0}\\n'.format(details.get('fieldARequired'))\n",
        "        filterDetails += 'Advanced field B required = {0}\\n'.format(details.get('fieldBRequired'))\n",
        "        filterDetails += 'Advanced override output field = {0}\\n'.format(details.get('overrideOutputField'))\n",
        "        filterDetails += 'Advanced case sensitive = {0}\\n'.format(details.get('caseSensitive'))\n",
        "      return filterDetails"
      ],
      "metadata": {
        "id": "hlqA0GyHC4X-"
      },
      "execution_count": null,
      "outputs": []
    },
    {
      "cell_type": "code",
      "source": [
        "def getAllViewsOfProperty(id):\n",
        "  count = 0\n",
        "  viewDetails = \"\"\n",
        "  filterDetails = \"\"\n",
        "  details = []\n",
        "  for view in views.get('items', []):\n",
        "    propertyId = view.get('webPropertyId')\n",
        "    if(propertyId == id):\n",
        "      filterCount = 0\n",
        "      count += 1\n",
        "      viewName = view.get('name')\n",
        "      viewId = view.get('id')\n",
        "\n",
        "      viewDetails = \"{0}: {1}\".format(count, viewName)\n",
        "      filterDetails = \"\"\n",
        "      \n",
        "      filtersIds = filter_view_dict.get(viewId)\n",
        "      filterCount = len(filtersIds)\n",
        "      for c, i in enumerate(filtersIds):\n",
        "        filterDetails += \"{0}: {1}\\n\".format(str(c+1), getFilter(i))\n",
        "      details.append({'viewDetails': viewDetails, 'filterDetails': filterDetails, 'filterCount': filterCount if filterDetails != \"1: No Filters\\n\" else \"0\"})\n",
        "\n",
        "  return details"
      ],
      "metadata": {
        "id": "nUbiwgnsHfxX"
      },
      "execution_count": null,
      "outputs": []
    },
    {
      "cell_type": "code",
      "source": [
        "count = 0\n",
        "count1 = 1\n",
        "for property in properties.get('items', []):\n",
        "  count += 1\n",
        "  accountId = '{0}'.format(property.get('accountId'))\n",
        "  propertyId = '{0}'.format(property.get('id'))\n",
        "  propertyName = '{0}'.format(property.get('name'))\n",
        "  details = getAllViewsOfProperty(propertyId)\n",
        "\n",
        "  df_dict['S.No'] = count\n",
        "  df_dict['Account'] = account_name\n",
        "  df_dict['Property Name'] = propertyName\n",
        "  df_dict['Property ID'] = propertyId\n",
        "\n",
        "  for i in details:\n",
        "    df_dict['Views Name'] = i.get('viewDetails')\n",
        "    df_dict['Filters Detail'] = i.get('filterDetails')\n",
        "    df_dict['Filter Count'] = i.get('filterCount')\n",
        "\n",
        "    df_dict = { key:str(value).strip() for key, value in df_dict.items()}\n",
        "\n",
        "    if(count1 == 1):\n",
        "      df = pd.DataFrame(df_dict, index=[count])\n",
        "      count1 += 1\n",
        "    else:\n",
        "      df1 = pd.DataFrame(df_dict, index=[count])\n",
        "      df = df.append([df1])\n",
        "      \n",
        "    df_dict['Views Name'] = None\n",
        "    df_dict['Filter Count'] = None\n",
        "    df_dict['Filters Detail'] = None\n",
        "\n",
        "  df_dict = {'S.No': \"\", 'Views Name': \"\", 'Filters Detail': \"\", 'Account': \"\", 'Property Name': \"\", 'Property ID': \"\", 'Filter Count': \"\"}"
      ],
      "metadata": {
        "id": "5os3kDNhn0Sy"
      },
      "execution_count": null,
      "outputs": []
    },
    {
      "cell_type": "markdown",
      "source": [
        "###CDs, CMs and Audience"
      ],
      "metadata": {
        "id": "HAp5maztcCPr"
      }
    },
    {
      "cell_type": "code",
      "source": [
        "df_cm_columns = ['S.No', 'ID', 'Name', 'Index', 'Active', 'Scope', 'Type', 'Property']\n",
        "df_cm_dict = {'S.No': \"\", 'ID': \"\", 'Name': \"\", 'Index': \"\", 'Active': \"\", 'Scope': \"\", 'Type': \"\", 'Property': \"\"}\n",
        "\n",
        "df_cd_columns = ['S.No', 'ID', 'Name', 'Index', 'Active', 'Scope', 'Property']\n",
        "df_cd_dict = {'S.No': \"\", 'ID': \"\", 'Name': \"\", 'Index': \"\", 'Active': \"\", 'Scope': \"\", 'Property': \"\"}\n",
        "\n",
        "df_audiences_columns = ['S.No', 'Id', 'Name', 'Description', 'Property', 'Type', 'Linked Views', 'Linked AdAccounts', 'Definition']\n",
        "df_audiences_dict = {'S.No': \"\", 'Id': \"\", 'Name': \"\", 'Description': \"\", 'Property': \"\", 'Type': \"\", 'Linked Views': \"\", 'Linked AdAccounts': \"\", 'Definition': \"\"}\n",
        "\n",
        "df_cm = pd.DataFrame(columns = df_cm_columns)\n",
        "df_cd = pd.DataFrame(columns = df_cd_columns)\n",
        "df_audiences = pd.DataFrame(columns = df_audiences_columns)"
      ],
      "metadata": {
        "id": "3hLx9qpioE5T"
      },
      "execution_count": null,
      "outputs": []
    },
    {
      "cell_type": "code",
      "source": [
        "dimensions = []\n",
        "metrics = []\n",
        "audiences = []\n",
        "count_cd = 1\n",
        "count_cm = 1\n",
        "count_audience = 1\n",
        "\n",
        "for i in properties.get('items', []):\n",
        "  property_id_name_dict[i['id']] = i['name']\n",
        "  dimensions = analytics.management().customDimensions().list(accountId=accountId,webPropertyId=i['id']).execute()['items']\n",
        "  metrics = analytics.management().customMetrics().list(accountId=accountId,webPropertyId=i['id']).execute()['items']\n",
        "  audiences = analytics.management().remarketingAudience().list(accountId=accountId,webPropertyId=i['id']).execute()['items']\n",
        "\n",
        "  if(dimensions):\n",
        "    count = 1\n",
        "    for dimension in dimensions:\n",
        "      df_cd_dict['S.No'] = count\n",
        "      df_cd_dict['ID'] = dimension.get('id')\n",
        "      df_cd_dict['Name'] = dimension.get('name')\n",
        "      df_cd_dict['Index'] = dimension.get('index')\n",
        "      df_cd_dict['Active'] = dimension.get('active')\n",
        "      df_cd_dict['Scope'] = dimension.get('scope')\n",
        "      df_cd_dict['Property'] = dimension.get('webPropertyId')\n",
        "\n",
        "      count += 1\n",
        "      df_cd_dict = { key:str(value).strip() for key, value in df_cd_dict.items()}\n",
        "\n",
        "      if(count_cd == 1):\n",
        "        df_cd = pd.DataFrame(df_cd_dict, index=[count_cd])\n",
        "      else:\n",
        "        df1 = pd.DataFrame(df_cd_dict, index=[count_cd])\n",
        "        df_cd = df_cd.append([df1])\n",
        "\n",
        "      count_cd += 1\n",
        "      df_cd_dict = {'S.No': \"\", 'ID': \"\", 'Name': \"\", 'Index': \"\", 'Active': \"\", 'Scope': \"\", 'Property': \"\"}\n",
        "\n",
        "    for i in range(5):\n",
        "      df_cd = df_cd.append(pd.DataFrame(df_cd_dict, index=[0]))\n",
        "\n",
        "  if(metrics):\n",
        "    count = 1\n",
        "    for metric in metrics:\n",
        "      df_cm_dict['S.No'] = count\n",
        "      df_cm_dict['ID'] = metric.get('id')\n",
        "      df_cm_dict['Name'] = metric.get('name')\n",
        "      df_cm_dict['Index'] = metric.get('index')\n",
        "      df_cm_dict['Active'] = metric.get('active')\n",
        "      df_cm_dict['Scope'] = metric.get('scope')\n",
        "      df_cm_dict['Type'] = metric.get('type')\n",
        "      df_cm_dict['Property'] = metric.get('webPropertyId')\n",
        "\n",
        "      count += 1\n",
        "      df_cm_dict = { key:str(value).strip() for key, value in df_cm_dict.items()}\n",
        "\n",
        "      if(count_cm == 1):\n",
        "        df_cm = pd.DataFrame(df_cm_dict, index=[count_cm])\n",
        "      else:\n",
        "        df1 = pd.DataFrame(df_cm_dict, index=[count_cm])\n",
        "        df_cm = df_cm.append([df1])\n",
        "      \n",
        "      count_cm += 1\n",
        "      df_cm_dict = {'S.No': \"\", 'ID': \"\", 'Name': \"\", 'Index': \"\", 'Active': \"\", 'Scope': \"\", 'Type': \"\", 'Property': \"\"}  \n",
        "\n",
        "    for i in range(5):\n",
        "      df_cm = df_cm.append(pd.DataFrame(df_cm_dict, index=[0]))\n",
        "  \n",
        "  if(audiences):\n",
        "    count = 1\n",
        "    for audience in audiences:\n",
        "      count_audience += 1\n",
        "      df_audiences_dict['S.No'] = count\n",
        "      df_audiences_dict['Id'] = audience.get('id')\n",
        "      df_audiences_dict['Name'] = audience.get('name')\n",
        "      df_audiences_dict['Description'] = audience.get('description')\n",
        "      df_audiences_dict['Property'] = audience.get('webPropertyId')\n",
        "\n",
        "      linkedViews = \"\"\n",
        "      for view in audience.get('linkedViews'):\n",
        "        linkedViews += '{0}\\n'.format(view)\n",
        "\n",
        "      df_audiences_dict['Linked Views'] = linkedViews\n",
        "\n",
        "      linkedAdAccounts = \"\"\n",
        "      for link in audience.get('linkedAdAccounts', []):\n",
        "        linkedAdAccounts += 'Link type = {0}\\n'.format(link.get('type'))\n",
        "        linkedAdAccounts += 'Property = {0}\\n'.format(link.get('webPropertyId'))\n",
        "        linkedAdAccounts += 'Status = {0}\\n'.format(link.get('status'))\n",
        "        linkedAdAccounts += 'Linked AccountId = {0}\\n\\n'.format(link.get('linkedAccountId'))\n",
        "\n",
        "      df_audiences_dict['Linked AdAccounts'] = linkedAdAccounts\n",
        "\n",
        "      audienceType = audience.get('audienceType')\n",
        "      df_audiences_dict['Type'] = audienceType\n",
        "\n",
        "      audienceDefinition = \"\"\n",
        "      if audienceType == 'SIMPLE':\n",
        "        definition = audience.get('audienceDefinition', {})\n",
        "        # Get the include conditions.\n",
        "        condition = definition.get('includeConditions', {})\n",
        "        audienceDefinition += 'daysToLookBack = {0}\\n'.format(condition.get('daysToLookBack'))\n",
        "        audienceDefinition += 'membershipDurationDays = {0}\\n'.format(condition.get('membershipDurationDays'))\n",
        "        audienceDefinition += 'segment = {0}\\n'.format(condition.get('segment'))\n",
        "      elif audienceType == 'STATE_BASED':\n",
        "        definition = audience.get('stateBasedAudienceDefinition', {})\n",
        "        # get the include conditions\n",
        "        condition = definition.get('includeConditions', {})\n",
        "        audienceDefinition += 'daysToLookBack = {0}\\n'.format(condition.get('daysToLookBack'))\n",
        "        audienceDefinition += 'membershipDurationDays = {0}\\n'.format(condition.get('membershipDurationDays'))\n",
        "        audienceDefinition += 'segment = {0}\\n'.format(condition.get('segment'))\n",
        "        # get the exclude condition\n",
        "        condition = definition.get('excludeConditions', {})\n",
        "        audienceDefinition += 'exclusionDuration = {0}\\n'.format(condition.get('exclusionDuration'))\n",
        "        audienceDefinition += 'segment = {0}\\n'.format(condition.get('segment'))\n",
        "\n",
        "      df_audiences_dict['Definition'] = audienceDefinition\n",
        "\n",
        "      count += 1\n",
        "      df_audiences_dict = { key:str(value).strip() for key, value in df_audiences_dict.items()}\n",
        "\n",
        "      if(count_audience == 1):\n",
        "        df_audiences = pd.DataFrame(df_audiences_dict, index=[count_audience])\n",
        "      else:\n",
        "        df1 = pd.DataFrame(df_audiences_dict, index=[count_audience])\n",
        "        df_audiences = df_audiences.append([df1])\n",
        "\n",
        "      count_audience += 1\n",
        "      df_audiences_dict = {'S.No': \"\", 'Id': \"\", 'Name': \"\", 'Description': \"\", 'Property': \"\", 'Type': \"\", 'Linked Views': \"\", 'Linked AdAccounts': \"\", 'Definition': \"\"}\n",
        "\n",
        "    for i in range(5):\n",
        "      df_audiences = df_audiences.append(pd.DataFrame(df_audiences_dict, index=[0]))\n",
        "\n",
        "  time.sleep(0.1)  # so that we dont exceed API Quota limit per second "
      ],
      "metadata": {
        "id": "ZTXIS7uDqg5T"
      },
      "execution_count": null,
      "outputs": []
    },
    {
      "cell_type": "markdown",
      "source": [
        "###Property and View Settings"
      ],
      "metadata": {
        "id": "s5F6mmysd3hI"
      }
    },
    {
      "cell_type": "code",
      "source": [
        "df_property_columns = ['S.No', 'Account Name', 'Property Name', 'Property ID', 'Host Name', 'Property Level', 'Industry Vertical', 'DataRetention Reset On New Activity', 'DataRetention TTL', 'View Count']\n",
        "df_property_dict = {'S.No': \"\", 'Account Name': \"\", 'Property Name': \"\", 'Property ID': \"\", 'Host Name': \"\", 'Property Level': \"\", 'Industry Vertical': \"\", 'DataRetention Reset On New Activity': \"\", 'DataRetention TTL': \"\", 'View Count': \"\"}\n",
        "\n",
        "df_view_columns = ['S.No', 'View Name', 'View ID', 'Host Name', 'Property Name', 'Property ID', 'Bot Filtering', 'eCommerce Tracking', 'Excluded Query Parameters', 'Timezone', 'SiteSearch Query Parameters', 'Starred', 'Type']\n",
        "df_view_dict = {'S.No': \"\", 'View Name': \"\", 'View ID': \"\", 'Host Name': \"\", 'Property Name': \"\", 'Property ID': \"\", 'Bot Filtering': \"\", 'eCommerce Tracking': \"\", 'Excluded Query Parameters': \"\", 'Timezone': \"\", 'SiteSearch Query Parameters': \"\", 'Starred': \"\", 'Type': \"\"}\n",
        "\n",
        "df_property = pd.DataFrame(df_property_columns)\n",
        "df_view = pd.DataFrame(df_view_columns)"
      ],
      "metadata": {
        "id": "u4xRjJv1d3Hg"
      },
      "execution_count": null,
      "outputs": []
    },
    {
      "cell_type": "code",
      "source": [
        "count = 0\n",
        "for property in properties.get('items', []):\n",
        "  count += 1\n",
        "  accountId = '{0}'.format(property.get('accountId'))\n",
        "  propertyId = '{0}'.format(property.get('id'))\n",
        "  propertyName = '{0}'.format(property.get('name'))\n",
        "  hostName = '{0}'.format(property.get('websiteUrl'))\n",
        "  propertyViewCount = '{0}'.format(property.get('profileCount'))  \n",
        "  propertyLevel = '{0}'.format(property.get('level'))\n",
        "  industryVertical = '{0}'.format(property.get('industryVertical'))\n",
        "  dataRetentionResetOnNewActivity = '{0}'.format(property.get('dataRetentionResetOnNewActivity'))\n",
        "  dataRetentionTtl = '{0}'.format(property.get('dataRetentionTtl'))\n",
        "\n",
        "  df_property_dict['S.No'] = count\n",
        "  df_property_dict['Property Level'] = \"GA 360\" if(propertyLevel == \"PREMIUM\") else \"GA\"\n",
        "  df_property_dict['Account Name'] = account_name\n",
        "  df_property_dict['Property Name'] = propertyName\n",
        "  df_property_dict['Property ID'] = propertyId\n",
        "  df_property_dict['View Count'] = propertyViewCount\n",
        "  df_property_dict['Host Name'] = hostName\n",
        "  df_property_dict['Industry Vertical'] = industryVertical\n",
        "  df_property_dict['DataRetention Reset On New Activity'] = dataRetentionResetOnNewActivity\n",
        "  df_property_dict['DataRetention TTL'] = dataRetentionTtl\n",
        "\n",
        "  if(count == 1):\n",
        "    df_property = pd.DataFrame(df_property_dict, index=[count])\n",
        "  else:\n",
        "    df1 = pd.DataFrame(df_property_dict, index=[count])\n",
        "    df_property = df_property.append([df1])\n",
        "  \n",
        "  df_property_dict = {'S.No': \"\", 'Account Name': \"\", 'Property Name': \"\", 'Property ID': \"\", 'Host Name': \"\", 'Property Level': \"\", 'Industry Vertical': \"\", 'DataRetention Reset On New Activity': \"\", 'DataRetention TTL': \"\", 'View Count': \"\"}\n",
        "  \n",
        "\n",
        "count = 0\n",
        "for view in views.get('items', []):\n",
        "  count += 1\n",
        "  name = '{0}'.format(view.get('name'))\n",
        "  id = '{0}'.format(view.get('id'))\n",
        "  propertyId = '{0}'.format(view.get('webPropertyId'))\n",
        "  propertyName = '{0}'.format(property_id_name_dict[propertyId])\n",
        "  hostName = '{0}'.format(view.get('websiteUrl'))\n",
        "  botFilteringEnabled = '{0}'.format(view.get('botFilteringEnabled'))\n",
        "  eCommerceTracking = '{0}'.format(view.get('eCommerceTracking'))\n",
        "  timezone = '{0}'.format(view.get('timezone'))\n",
        "  type_ = '{0}'.format(view.get('type'))\n",
        "  excludeQueryParameters = '{0}'.format(view.get('excludeQueryParameters'))\n",
        "  siteSearchQueryParameters = '{0}'.format(view.get('siteSearchQueryParameters'))\n",
        "  starred = '{0}'.format(view.get('starred'))\n",
        "\n",
        "  df_view_dict['S.No'] = count\n",
        "  df_view_dict['View Name'] = name\n",
        "  df_view_dict['View ID'] = id\n",
        "  df_view_dict['Host Name'] = hostName\n",
        "  df_view_dict['Property Name'] = propertyName\n",
        "  df_view_dict['Property ID'] = propertyId\n",
        "  df_view_dict['Bot Filtering'] = \"Enabled\" if(botFilteringEnabled == \"True\") else \"Disabled\"\n",
        "  df_view_dict['eCommerce Tracking'] = eCommerceTracking\n",
        "  df_view_dict['Timezone'] = timezone\n",
        "  df_view_dict['Starred'] = starred\n",
        "  df_view_dict['Excluded Query Parameters'] = excludeQueryParameters\n",
        "  df_view_dict['SiteSearch Query Parameters'] = siteSearchQueryParameters\n",
        "  df_view_dict['Type'] = type_\n",
        "\n",
        "  if(count == 1):\n",
        "    df_view = pd.DataFrame(df_view_dict, index=[count])\n",
        "  else:\n",
        "    df1 = pd.DataFrame(df_view_dict, index=[count])\n",
        "    df_view = df_view.append([df1])\n",
        "  \n",
        "  df_view_dict = {'S.No': \"\", 'View Name': \"\", 'View ID': \"\", 'Host Name': \"\", 'Property Name': \"\", 'Property ID': \"\", 'Bot Filtering': \"\", 'eCommerce Tracking': \"\", 'Excluded Query Parameters': \"\", 'Timezone': \"\", 'SiteSearch Query Parameters': \"\", 'Starred': \"\", 'Type': \"\"}"
      ],
      "metadata": {
        "id": "XDLRKh-tfvyX"
      },
      "execution_count": null,
      "outputs": []
    },
    {
      "cell_type": "markdown",
      "source": [
        "###Goals"
      ],
      "metadata": {
        "id": "4UoTdMBQ8cul"
      }
    },
    {
      "cell_type": "code",
      "source": [
        "df_goals_columns = ['S.No', 'Number', 'Name', 'Value', 'Type', 'Active', 'Details', 'Property ID', 'View ID', 'Property Name', 'View Name']\n",
        "df_goals_dict = {'S.No': \"\", 'Number': \"\", 'Name': \"\", 'Value': \"\", 'Type': \"\", 'Active': \"\", 'Details': \"\", 'Property ID': \"\", 'View ID': \"\", 'Property Name': \"\", 'View Name': \"\"}\n",
        "\n",
        "df_goals = pd.DataFrame(df_columns)"
      ],
      "metadata": {
        "id": "WvmSGe778g5V"
      },
      "execution_count": null,
      "outputs": []
    },
    {
      "cell_type": "code",
      "source": [
        "def print_url_destination_goal_details(goal_details):\n",
        "  goalDetails = \"Goal URL = {0}\\n\".format(goal_details.get('url'))\n",
        "  goalDetails += \"Case Sensitive = {0}\\n\".format(goal_details.get('caseSensitive'))\n",
        "  goalDetails += \"Match Type = {0}\\n\".format(goal_details.get('matchType'))\n",
        "  goalDetails += \"First Step Required = {0}\\n\".format(goal_details.get('firstStepRequired'))\n",
        "\n",
        "  for goal_step in goal_details.get('steps', []):\n",
        "    goalDetails += \"\\nStep Number = {0}\\n\".format(goal_step.get('number'))\n",
        "    goalDetails += \"Step Name = {0}\\n\".format(goal_step.get('name'))\n",
        "    goalDetails += \"Step URL = {0}\\n\".format(goal_step.get('url'))\n",
        "\n",
        "  return goalDetails\n",
        "\n",
        "def print_visit_time_on_site_goal_details(goal_details):\n",
        "  goalDetails = \"Comparison Type = {0}\\n\".format(goal_details.get('comparisonType'))\n",
        "  goalDetails += \"comparison Value = {0}\\n\".format(goal_details.get('comparisonValue'))\n",
        "\n",
        "  return goalDetails\n",
        "\n",
        "def print_visit_num_pages_goal_details(goal_details):\n",
        "  goalDetails = \"Comparison Type = {0}\\n\".format(goal_details.get('comparisonType'))\n",
        "  goalDetails += \"comparison Value = {0}\\n\".format(goal_details.get('comparisonValue'))\n",
        "\n",
        "  return goalDetails\n",
        "\n",
        "def print_event_goal_details(goal_details):\n",
        "  goalDetails = \"Use Event Value = {0}\\n\".format(goal_details.get('useEventValue'))\n",
        "\n",
        "  for event_condition in goal_details.get('eventConditions', []):\n",
        "    event_type = event_condition.get('type')\n",
        "    goalDetails += \"Type = {0}\\n\".format(event_type)\n",
        "\n",
        "    if event_type == 'VALUE':\n",
        "      goalDetails += \"Comparison Type = {0}\\n\".format(event_condition.get('comparisonType'))\n",
        "      goalDetails += \"Comparison Value = {0}\\n\\n\".format(event_condition.get('comparisonValue'))\n",
        "\n",
        "    else:  # CATEGORY, ACTION, LABEL types.\n",
        "      goalDetails += \"Match Type = {0}\\n\".format(event_condition.get('matchType'))\n",
        "      goalDetails += \"Expression = {0}\\n\\n\".format(event_condition.get('expression'))\n",
        "\n",
        "  return goalDetails"
      ],
      "metadata": {
        "id": "cX3bYdhtKMYW"
      },
      "execution_count": null,
      "outputs": []
    },
    {
      "cell_type": "code",
      "source": [
        "goals = analytics.management().goals().list(accountId=accountId,webPropertyId='~all',profileId='~all').execute()\n",
        "count = 0\n",
        "for goal in goals.get('items', []):\n",
        "  count += 1\n",
        "  df_goals_dict['S.No'] = count\n",
        "  df_goals_dict['Property ID'] = goal.get('webPropertyId')\n",
        "  df_goals_dict['View ID'] = goal.get('profileId')\n",
        "  df_goals_dict['Property Name'] = property_id_name_dict[goal.get('webPropertyId')]\n",
        "  df_goals_dict['View Name'] = view_id_name_dict[goal.get('profileId')]\n",
        "  df_goals_dict['Number'] = goal.get('id')\n",
        "  df_goals_dict['Name'] = goal.get('name')\n",
        "  df_goals_dict['Value'] = goal.get('value')\n",
        "  df_goals_dict['Active'] = goal.get('active')\n",
        "  df_goals_dict['Type'] = goal.get('type')\n",
        "\n",
        "  if goal.get('urlDestinationDetails'):\n",
        "    df_goals_dict['Details'] = print_url_destination_goal_details(goal.get('urlDestinationDetails'))\n",
        "\n",
        "  elif goal.get('visitTimeOnSiteDetails'):\n",
        "    df_goals_dict['Details'] = print_visit_time_on_site_goal_details(goal.get('visitTimeOnSiteDetails'))\n",
        "\n",
        "  elif goal.get('visitNumPagesDetails'):\n",
        "    df_goals_dict['Details'] = print_visit_num_pages_goal_details(goal.get('visitNumPagesDetails'))\n",
        "\n",
        "  elif goal.get('eventDetails'):\n",
        "    df_goals_dict['Details'] = print_event_goal_details(goal.get('eventDetails'))\n",
        "\n",
        "  if(count == 1):\n",
        "    df_goals = pd.DataFrame(df_goals_dict, index=[count])\n",
        "  else:\n",
        "    df1 = pd.DataFrame(df_goals_dict, index=[count])\n",
        "    df_goals = df_goals.append([df1])"
      ],
      "metadata": {
        "id": "Z4WPEY5l-R9B"
      },
      "execution_count": null,
      "outputs": []
    },
    {
      "cell_type": "markdown",
      "source": [
        "###Access Management"
      ],
      "metadata": {
        "id": "kbgUD_91rQ-3"
      }
    },
    {
      "cell_type": "code",
      "source": [
        "df_account_user_links_columns = ['S.No', 'User Email', 'Permissions effective', 'Permissions local', 'Account Id', 'Account Name']\n",
        "df_account_user_links_dict = {'S.No': \"\", 'User Email': \"\", 'Permissions effective': \"\", 'Permissions local': \"\", 'Account Id': \"\", 'Account Name': \"\"}\n",
        "\n",
        "df_property_user_links_columns = ['S.No', 'User Email', 'Permissions effective', 'Permissions local', 'Property Id', 'Property Name']\n",
        "df_property_user_links_dict = {'S.No': \"\", 'User Email': \"\", 'Permissions effective': \"\", 'Permissions local': \"\", 'Property Id': \"\", 'Property Name': \"\"}\n",
        "\n",
        "df_view_user_links_columns = ['S.No', 'User Email', 'Permissions effective', 'Permissions local', 'View Id', 'View Name']\n",
        "df_view_user_links_dict = {'S.No': \"\", 'User Email': \"\", 'Permissions effective': \"\", 'Permissions local': \"\", 'View Id': \"\", 'View Name': \"\"}\n",
        "\n",
        "df_account_user_links = pd.DataFrame(columns = df_account_user_links_columns)\n",
        "df_property_user_links = pd.DataFrame(columns = df_property_user_links_columns)\n",
        "df_view_user_links = pd.DataFrame(columns = df_view_user_links_columns)"
      ],
      "metadata": {
        "id": "mPQcjAgMhWMd"
      },
      "execution_count": null,
      "outputs": []
    },
    {
      "cell_type": "code",
      "source": [
        "account_user_links = analytics.management().accountUserLinks().list(accountId=accountId).execute()\n",
        "property_user_links = analytics.management().webpropertyUserLinks().list(accountId=accountId,webPropertyId='~all').execute()\n",
        "view_user_links = analytics.management().profileUserLinks().list(accountId=accountId,webPropertyId='~all',profileId='~all').execute()\n",
        "\n",
        "def printList(items):\n",
        "  res = \"\"\n",
        "  if(items):\n",
        "    for i in items:\n",
        "      res += \"{0} \\n\".format(i)\n",
        "  return res\n",
        "\n",
        "count = 0\n",
        "for accountUserLink in account_user_links.get('items', []):\n",
        "  count += 1\n",
        "  entity = accountUserLink.get('entity', {})\n",
        "  accountRef = entity.get('accountRef', {})\n",
        "  userRef = accountUserLink.get('userRef', {})\n",
        "  permissions = accountUserLink.get('permissions', {})\n",
        "\n",
        "  df_account_user_links_dict['S.No'] = count\n",
        "  df_account_user_links_dict['User Email'] = userRef.get('email')\n",
        "  df_account_user_links_dict['Permissions effective'] = printList(permissions.get('effective'))\n",
        "  df_account_user_links_dict['Permissions local'] = printList(permissions.get('local'))\n",
        "  df_account_user_links_dict['Account Id'] = accountRef.get('id')\n",
        "  df_account_user_links_dict['Account Name'] = accountRef.get('name')\n",
        "\n",
        "  if(count == 1):\n",
        "    df_account_user_links = pd.DataFrame(df_account_user_links_dict, index=[count])\n",
        "  else:\n",
        "    df1 = pd.DataFrame(df_account_user_links_dict, index=[count])\n",
        "    df_account_user_links = df_account_user_links.append([df1])\n",
        "\n",
        "\n",
        "count = 0\n",
        "for propertyUserLink in property_user_links.get('items', []):\n",
        "  count += 1\n",
        "  entity = propertyUserLink.get('entity', {})\n",
        "  propertyRef = entity.get('webPropertyRef', {})\n",
        "  userRef = propertyUserLink.get('userRef', {})\n",
        "  permissions = propertyUserLink.get('permissions', {})\n",
        "\n",
        "  df_property_user_links_dict['S.No'] = count\n",
        "  df_property_user_links_dict['User Email'] = userRef.get('email')\n",
        "  df_property_user_links_dict['Permissions effective'] = printList(permissions.get('effective'))\n",
        "  df_property_user_links_dict['Permissions local'] = printList(permissions.get('local'))\n",
        "  df_property_user_links_dict['Property Id'] = propertyRef.get('id')\n",
        "  df_property_user_links_dict['Property Name'] = propertyRef.get('name')\n",
        "\n",
        "  if(count == 1):\n",
        "    df_property_user_links = pd.DataFrame(df_property_user_links_dict, index=[count])\n",
        "  else:\n",
        "    df1 = pd.DataFrame(df_property_user_links_dict, index=[count])\n",
        "    df_property_user_links = df_property_user_links.append([df1])\n",
        "\n",
        "count = 0\n",
        "for profileUserLink in view_user_links.get('items', []):\n",
        "  count += 1\n",
        "  entity = profileUserLink.get('entity', {})\n",
        "  profileRef = entity.get('profileRef', {})\n",
        "  userRef = profileUserLink.get('userRef', {})\n",
        "  permissions = profileUserLink.get('permissions', {})\n",
        "\n",
        "  df_view_user_links_dict['S.No'] = count\n",
        "  df_view_user_links_dict['User Email'] = userRef.get('email')\n",
        "  df_view_user_links_dict['Permissions effective'] = printList(permissions.get('effective'))\n",
        "  df_view_user_links_dict['Permissions local'] = printList(permissions.get('local'))\n",
        "  df_view_user_links_dict['View Id'] = profileRef.get('id')\n",
        "  df_view_user_links_dict['View Name'] = profileRef.get('name')\n",
        "\n",
        "  if(count == 1):\n",
        "    df_view_user_links = pd.DataFrame(df_view_user_links_dict, index=[count])\n",
        "  else:\n",
        "    df1 = pd.DataFrame(df_view_user_links_dict, index=[count])\n",
        "    df_view_user_links = df_view_user_links.append([df1])"
      ],
      "metadata": {
        "id": "KXq9Dp5OhPxU"
      },
      "execution_count": null,
      "outputs": []
    },
    {
      "cell_type": "markdown",
      "source": [
        "#Output"
      ],
      "metadata": {
        "id": "5MQsnDum3LF1"
      }
    },
    {
      "cell_type": "code",
      "source": [
        "df.set_index('S.No')\n",
        "df_property.set_index('S.No')\n",
        "df_view.set_index('S.No')\n",
        "df_cd.set_index('S.No')\n",
        "df_cm.set_index('S.No')\n",
        "df_goals.set_index('S.No')\n",
        "df_audiences.set_index('S.No')\n",
        "df_account_user_links.set_index('S.No')\n",
        "df_property_user_links.set_index('S.No')\n",
        "df_view_user_links.set_index('S.No')\n",
        "\n",
        "writer = pd.ExcelWriter(\"{0} GA Summary.xlsx\".format(account_name))\n",
        "\n",
        "df_property.to_excel(writer, 'Property', engine='xlswriter', index=False)\n",
        "df_view.to_excel(writer, 'View', engine='xlswriter', index=False)\n",
        "df_cd.to_excel(writer, 'Custom Dimentions', engine='xlswriter', index=False)\n",
        "df_cm.to_excel(writer, 'Custom Metrics', engine='xlswriter', index=False)\n",
        "df.to_excel(writer, 'Filters', engine='xlswriter', index=False)\n",
        "df_goals.to_excel(writer, 'Goals', engine='xlswriter', index=False)\n",
        "df_audiences.to_excel(writer, 'Audiences', engine='xlswriter', index=False)\n",
        "df_account_user_links.to_excel(writer, 'Account User Management', engine='xlswriter', index=False)\n",
        "df_property_user_links.to_excel(writer, 'Property User Management', engine='xlswriter', index=False)\n",
        "df_view_user_links.to_excel(writer, 'View User Management', engine='xlswriter', index=False)\n",
        "\n",
        "writer.save()"
      ],
      "metadata": {
        "id": "Bk0Z-qgUn_IA"
      },
      "execution_count": null,
      "outputs": []
    },
    {
      "cell_type": "code",
      "source": [
        "analytics.close()"
      ],
      "metadata": {
        "id": "hWTIEc8cZkSu"
      },
      "execution_count": null,
      "outputs": []
    }
  ]
}