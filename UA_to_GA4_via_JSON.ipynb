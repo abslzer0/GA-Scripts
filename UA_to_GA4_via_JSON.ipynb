{
  "nbformat": 4,
  "nbformat_minor": 0,
  "metadata": {
    "colab": {
      "name": "UA to GA4 via JSON",
      "provenance": [],
      "collapsed_sections": []
    },
    "kernelspec": {
      "name": "python3",
      "display_name": "Python 3"
    },
    "language_info": {
      "name": "python"
    }
  },
  "cells": [
    {
      "cell_type": "code",
      "source": [
        "# Possible Inputs\n",
        "\n",
        "# 1. \n",
        "# JSON file\n",
        "\n",
        "# 2. \n",
        "# Do you want to create GA4 Config Tag\n",
        "# if Yes; Specify Measurement ID (Use any dummy value to create temporary Tag)\n",
        "# if No; Specify Tag Name \n",
        "\n",
        "\n",
        "# Notes\n",
        "\n",
        "# Event name"
      ],
      "metadata": {
        "id": "C9TDCE5uC9Rz"
      },
      "execution_count": null,
      "outputs": []
    },
    {
      "cell_type": "code",
      "execution_count": null,
      "metadata": {
        "id": "9YDQin5JjWTV"
      },
      "outputs": [],
      "source": [
        "import os\n",
        "import json\n",
        "import pandas as pd\n",
        "import time\n",
        "import requests\n",
        "import re"
      ]
    },
    {
      "cell_type": "code",
      "source": [
        "from google.colab import files\n",
        "uploaded = files.upload()"
      ],
      "metadata": {
        "colab": {
          "resources": {
            "http://localhost:8080/nbextensions/google.colab/files.js": {
              "data": "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",
              "ok": true,
              "headers": [
                [
                  "content-type",
                  "application/javascript"
                ]
              ],
              "status": 200,
              "status_text": ""
            }
          },
          "base_uri": "https://localhost:8080/",
          "height": 74
        },
        "id": "iPw-qOxUlhd1",
        "outputId": "66d70b84-1420-4647-a4cd-8e9ceae14729"
      },
      "execution_count": null,
      "outputs": [
        {
          "output_type": "display_data",
          "data": {
            "text/plain": [
              "<IPython.core.display.HTML object>"
            ],
            "text/html": [
              "\n",
              "     <input type=\"file\" id=\"files-b76c7bc0-c825-450f-8dfe-4f43c5d06f38\" name=\"files[]\" multiple disabled\n",
              "        style=\"border:none\" />\n",
              "     <output id=\"result-b76c7bc0-c825-450f-8dfe-4f43c5d06f38\">\n",
              "      Upload widget is only available when the cell has been executed in the\n",
              "      current browser session. Please rerun this cell to enable.\n",
              "      </output>\n",
              "      <script src=\"/nbextensions/google.colab/files.js\"></script> "
            ]
          },
          "metadata": {}
        },
        {
          "output_type": "stream",
          "name": "stdout",
          "text": [
            "Saving GTM-NLDQ2CR_workspace5.json to GTM-NLDQ2CR_workspace5.json\n"
          ]
        }
      ]
    },
    {
      "cell_type": "code",
      "source": [
        "def formatString(q):\n",
        "  result = re.search('{{(.+?)}}', q)\n",
        "  if result:\n",
        "      result = result.group(1).replace(\" \", \"_\").lower()\n",
        "      return result\n",
        "  else:\n",
        "    return q\n",
        "\n",
        "def extractString(q):\n",
        "  result = re.search('{{(.+?)}}', q)\n",
        "  if result:\n",
        "      result = result.group(1)\n",
        "      return result\n",
        "  else:\n",
        "    return q\n",
        "\n",
        "def setEventParams(name, value):\n",
        "  return {\n",
        "    \"type\": \"MAP\",\n",
        "    \"map\": [\n",
        "      { \"type\": \"TEMPLATE\", \"key\": \"name\", \"value\": name },\n",
        "      { \"type\": \"TEMPLATE\", \"key\": \"value\", \"value\": value }\n",
        "    ]\n",
        "  }"
      ],
      "metadata": {
        "id": "ZpeY2loQEa4W"
      },
      "execution_count": null,
      "outputs": []
    },
    {
      "cell_type": "code",
      "source": [
        "def createGA4Config(json_data, tagId, measurementId, fingerprint):\n",
        "\n",
        "  return {\n",
        "    \"accountId\": json_data['containerVersion']['accountId'],\n",
        "    \"containerId\": json_data['containerVersion']['containerId'],\n",
        "    \"tagId\": str(tagId),\n",
        "    \"name\": \"GA4 Configuration\",\n",
        "    \"type\": \"gaawc\",\n",
        "    \"parameter\": [\n",
        "      { \"type\": \"BOOLEAN\", \"key\": \"sendPageView\", \"value\": \"false\" },\n",
        "      { \"type\": \"BOOLEAN\", \"key\": \"enableSendToServerContainer\", \"value\": \"false\" },\n",
        "      { \"type\": \"TEMPLATE\", \"key\": \"measurementId\", \"value\": measurementId },\n",
        "    ],\n",
        "    \"fingerprint\": fingerprint,\n",
        "    \"firingTriggerId\": [\"2147479553\"],\n",
        "    \"tagFiringOption\": \"ONCE_PER_EVENT\",\n",
        "    \"monitoringMetadata\": { \"type\": \"MAP\" },\n",
        "    \"consentSettings\": { \"consentStatus\": \"NOT_SET\" },\n",
        "  }"
      ],
      "metadata": {
        "id": "x4HMv5Qbxecn"
      },
      "execution_count": null,
      "outputs": []
    },
    {
      "cell_type": "code",
      "source": [
        "def createGA4PVParams(measurementId):\n",
        "\n",
        "  return [\n",
        "        {\n",
        "            \"type\": \"TEMPLATE\",\n",
        "            \"key\": \"eventName\",\n",
        "            \"value\": \"page_view\"\n",
        "        },\n",
        "        {\n",
        "            \"type\": \"LIST\",\n",
        "            \"key\": \"eventParameters\",\n",
        "            \"list\": [\n",
        "                {\n",
        "                    \"type\": \"MAP\",\n",
        "                    \"map\": [\n",
        "                        {\n",
        "                            \"type\": \"TEMPLATE\",\n",
        "                            \"key\": \"name\",\n",
        "                            \"value\": \"location\"\n",
        "                        },\n",
        "                        {\n",
        "                            \"type\": \"TEMPLATE\",\n",
        "                            \"key\": \"value\",\n",
        "                            \"value\": \"{{Page URL}}\"\n",
        "                        }\n",
        "                    ]\n",
        "                }\n",
        "            ]\n",
        "        },\n",
        "        {\n",
        "            \"type\": \"TAG_REFERENCE\",\n",
        "            \"key\": \"measurementId\",\n",
        "            \"value\": measurementId\n",
        "        }\n",
        "    ]"
      ],
      "metadata": {
        "id": "YCcXJhAOHnGj"
      },
      "execution_count": null,
      "outputs": []
    },
    {
      "cell_type": "code",
      "source": [
        "def setGA4Params(tag_parameters, eventName, measurementId, extraParams):\n",
        "\n",
        "  eventCategory = None\n",
        "  eventAction = None\n",
        "  eventLabel = None\n",
        "  eventValue = None\n",
        "  dimension = None\n",
        "  metric = None\n",
        "\n",
        "  if(tag_parameters):\n",
        "    for tag_parameter in tag_parameters:\n",
        "      if(tag_parameter[\"key\"] == \"trackType\" and tag_parameter[\"value\"] == \"TRACK_PAGEVIEW\"):\n",
        "        return \"pageview\"\n",
        "      if(tag_parameter[\"key\"] == \"eventCategory\"):\n",
        "        eventCategory = tag_parameter[\"value\"]\n",
        "      elif(tag_parameter[\"key\"] == \"eventAction\"):\n",
        "        eventAction = tag_parameter[\"value\"]\n",
        "      elif(tag_parameter[\"key\"] == \"eventLabel\"):\n",
        "        eventLabel = tag_parameter[\"value\"]\n",
        "      elif(tag_parameter[\"key\"] == \"eventValue\"):\n",
        "        eventValue = tag_parameter[\"value\"]\n",
        "      elif(tag_parameter[\"key\"] == \"dimension\"):\n",
        "        dimension = tag_parameter[\"list\"]\n",
        "      elif(tag_parameter[\"key\"] == \"metric\"):\n",
        "        metric = tag_parameter[\"list\"]\n",
        "\n",
        "  param_list = [\n",
        "                setEventParams(\"eventCategory\", eventCategory) if (eventCategory) else None,\n",
        "                setEventParams(\"eventAction\", eventAction) if (eventAction) else None,\n",
        "                setEventParams(\"eventLabel\", eventLabel) if (eventLabel) else None,\n",
        "                setEventParams(\"eventValue\", eventValue) if (eventValue) else None\n",
        "  ]\n",
        "\n",
        "  if(dimension):\n",
        "    for i in dimension:\n",
        "      param_list.append(setEventParams(formatString(i[\"map\"][1][\"value\"]), i[\"map\"][1][\"value\"]))\n",
        "\n",
        "  if(metric):\n",
        "    for i in metric:\n",
        "      param_list.append(setEventParams(formatString(i[\"map\"][1][\"value\"]), i[\"map\"][1][\"value\"]))\n",
        "\n",
        "  if(extraParams):\n",
        "    param_list.extend(extraParams)\n",
        "\n",
        "  return [\n",
        "    { \"type\": \"TEMPLATE\", \"key\": \"eventName\", \"value\": eventName },\n",
        "    {\n",
        "      \"type\": \"LIST\",\n",
        "      \"key\": \"eventParameters\",\n",
        "      \"list\": list(filter(None, param_list)),\n",
        "    },\n",
        "    { \"type\": \"TAG_REFERENCE\", \"key\": \"measurementId\", \"value\": measurementId },\n",
        "  ]"
      ],
      "metadata": {
        "id": "yjIlXal63XCQ"
      },
      "execution_count": null,
      "outputs": []
    },
    {
      "cell_type": "code",
      "source": [
        "def extractParamsFromVar(var):\n",
        "  params = var.get('parameter')\n",
        "  param_list = []\n",
        "  if(params):\n",
        "    for param in params:\n",
        "      if(param[\"key\"] == \"dimension\"):\n",
        "        dimension = param[\"list\"]\n",
        "      elif(param[\"key\"] == \"metric\"):\n",
        "        metric = param[\"list\"]\n",
        "\n",
        "    if(dimension):\n",
        "      for i in dimension:\n",
        "        param_list.append(setEventParams(formatString(i[\"map\"][1][\"value\"]), i[\"map\"][1][\"value\"]))\n",
        "\n",
        "    if(metric):\n",
        "      for i in metric:\n",
        "        param_list.append(setEventParams(formatString(i[\"map\"][1][\"value\"]), i[\"map\"][1][\"value\"]))\n",
        "        \n",
        "  else:\n",
        "    param_list = None\n",
        "\n",
        "  return param_list"
      ],
      "metadata": {
        "id": "BUS6KwhUA9el"
      },
      "execution_count": null,
      "outputs": []
    },
    {
      "cell_type": "code",
      "source": [
        "fingerprint = round(time.time() * 1000)\n",
        "\n",
        "def covertUAToGA4(filename):\n",
        "  global fingerprint\n",
        "  importJSON = {}\n",
        "  ga4_tags = []\n",
        "  maxTagID = 0\n",
        "  measurementId = \"G-A2ABC2ABCD\"\n",
        "  measurementTagName = \"GA4 Configuration\"      # GA4 Configuration tag name\n",
        "  eventName = \"GA4_Event\"     # To be changed\n",
        "  tag_paused = False\n",
        "\n",
        "  json_data = json.loads(open('{0}'.format(filename)).read())\n",
        "  tags = json_data['containerVersion']['tag'] if('tag' in json_data['containerVersion']) else {}\n",
        "  vars = json_data['containerVersion']['variable'] if('variable' in json_data['containerVersion']) else {}\n",
        "\n",
        "  maxTagID = int(max(tags, key=lambda x: int(x.get('tagId'))).get('tagId'))\n",
        "\n",
        "  ga4_tags.extend(tags)\n",
        "  ga4_tags.append(createGA4Config(json_data, maxTagID+1, measurementId, fingerprint))\n",
        "  maxTagID += 1\n",
        "\n",
        "  for tag in tags:\n",
        "    if(\"paused\" in tag and tag[\"paused\"]):\n",
        "      tag_paused = True\n",
        "    if(tag.get('type') == \"ua\" and not tag_paused):\n",
        "      fingerprint = round(time.time() * 1000)\n",
        "\n",
        "      ga4_tag = tag.copy()\n",
        "      ga4_tag['tagId'] = str(maxTagID+1)\n",
        "      ga4_tag['name'] = 'GA4 {0}'.format(tag['name'])\n",
        "      ga4_tag['type'] = 'gaawe'\n",
        "      ga4_tag['fingerprint'] = fingerprint\n",
        "\n",
        "      gaSettings = \"\"\n",
        "\n",
        "      if('parameter' in tag):\n",
        "        parameter = tag.get('parameter')\n",
        "        if(parameter):\n",
        "          for i in parameter:\n",
        "            if(i['key'] == \"gaSettings\"):\n",
        "              varName = extractString(i['value'])\n",
        "              for var in vars:\n",
        "                if(var['name'] == varName):\n",
        "                  gaSettings = var\n",
        "\n",
        "          gaSettingsParams = extractParamsFromVar(var)\n",
        "          parameter = setGA4Params(parameter, eventName, measurementTagName, gaSettingsParams)\n",
        "      \n",
        "      if(parameter == \"pageview\"):\n",
        "        ga4_tag['parameter'] = createGA4PVParams(measurementTagName)\n",
        "      else:\n",
        "        ga4_tag['parameter'] = list(filter(None, parameter))\n",
        "\n",
        "      maxTagID += 1\n",
        "      ga4_tags.append(ga4_tag)\n",
        "\n",
        "  importJSON = json_data\n",
        "  importJSON['containerVersion']['tag'] = ga4_tags\n",
        "  \n",
        "  return importJSON"
      ],
      "metadata": {
        "id": "AvgfF2F8ltLJ"
      },
      "execution_count": null,
      "outputs": []
    },
    {
      "cell_type": "code",
      "source": [
        "for i in iter(uploaded):\n",
        "  importJSON = json.dumps(covertUAToGA4(i))\n",
        "  \n",
        "  with open('Import - {0}.json'.format(i.split(\"_\")[0]), 'w') as f:\n",
        "    f.write(importJSON)"
      ],
      "metadata": {
        "id": "7o7loRY3ljH6"
      },
      "execution_count": null,
      "outputs": []
    },
    {
      "cell_type": "code",
      "source": [
        ""
      ],
      "metadata": {
        "id": "-ztAYvrStnvP"
      },
      "execution_count": null,
      "outputs": []
    }
  ]
}